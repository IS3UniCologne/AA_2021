{
 "cells": [
  {
   "cell_type": "markdown",
   "metadata": {},
   "source": [
    "## Introduction\n",
    "\n",
    "These relatively brief notes contain an overview of the Jupyter Notebook environment."
   ]
  },
  {
   "cell_type": "markdown",
   "metadata": {},
   "source": [
    "## Overview of Jupyter Notebook\n",
    "\n",
    "Jupyter Notebook is a browser-based coding environment, used extensively for prototyping and interactive development in data science applications.  Jupyter Notebook is an evolution of an older project called the IPython Noteboook (this is the origin of the notebook file extension \".ipynb\"), and while (as the name suggests) Jupyter Notebook supports languages other than Python, at the current time Python is by far the most common language for these notebook.  General information about Jupyter Notebook and related projects can be found at the [Jupyter project page](http://jupyter.org).\n",
    "\n",
    "The central unit within a Jupyter Notebook are \"cells\".  These cells can be either contain code or Markdown (a simple formatting language, which can also include things like LaTeX equations).  The dropdown menu at the top of the screen indicates the type of the current cell.  \n",
    "\n",
    "Code cells can be executed by pressing the <i class=\"fa fa-step-forward\"></i> button at the top of the notebook, or more commonly via the commands Shift-Enter (execute and move to the next cell) or Control-Enter (execute and stay on that cell).  All Python code is executed in a single running Python environment, called the \"Kernel\" in Jupyter notebook.  Variables are shared across all cells, and the code is executed in the order in which the cells are run (not necessarily sequential in the notebook), which can get your notebook into rather confusing states if you don't always execute cells in order.\n",
    "\n",
    "Let's look at a a few examples."
   ]
  },
  {
   "cell_type": "code",
   "execution_count": 1,
   "metadata": {},
   "outputs": [
    {
     "data": {
      "text/plain": [
       "5"
      ]
     },
     "execution_count": 1,
     "metadata": {},
     "output_type": "execute_result"
    }
   ],
   "source": [
    "1+4"
   ]
  },
  {
   "cell_type": "code",
   "execution_count": 3,
   "metadata": {},
   "outputs": [],
   "source": [
    "a = 1.0\n",
    "b = 2.0"
   ]
  },
  {
   "cell_type": "code",
   "execution_count": 4,
   "metadata": {},
   "outputs": [
    {
     "name": "stdout",
     "output_type": "stream",
     "text": [
      "1.0\n"
     ]
    },
    {
     "data": {
      "text/plain": [
       "2.0"
      ]
     },
     "execution_count": 4,
     "metadata": {},
     "output_type": "execute_result"
    }
   ],
   "source": [
    "print(a)\n",
    "b "
   ]
  },
  {
   "cell_type": "markdown",
   "metadata": {},
   "source": [
    "Any `print` statements will print to the output section for the cell, and the output will also contain the string representation of the object returned by the last line in the cell.  Thus, in the above setting where the variable `b` appears on the last line of the cell, its content is printed at the end of the cell output, following any previous print statements that happen before.\n",
    "\n",
    "Any Python code will be valid in these cells, so we can import external libraries, define classes, and functions, etc."
   ]
  },
  {
   "cell_type": "markdown",
   "metadata": {},
   "source": [
    "### Efficient navigation in the notebook\n",
    "\n",
    "Because you'll be spending a lot of timing writing code in the notebook, it helps to become at least a little bit familiar with the features of the editor.  While the notebook in many ways makes a poor actual code editing environment (compared to more fully featured editors ranging from Sublime, vi, Emacs, Atom, etc), it's not that bad if you familiarize yourself with some of the keyboard shortcuts.\n",
    "\n",
    "You can look up all the keyboard shortcuts (in addition to adding your own) in the \"Help -> Keyboard Shortcuts\" menu, but some of the more common ones I use are the following.  First, though, it is important to distinguish between the \"edit mode\" (when directly editing a cell) and \"command mode\" (navigating over cells).  You can switch between these using \"ESC\" or \"Ctrl-M\" (switch to command mode) and \"Enter\" (switch to edit more).\n",
    "\n",
    "Common keyboard shortcuts in command mode:\n",
    "- \"x\": delete a cell (though be careful, because you can only undo the deletion of one cell)\n",
    "- \"a\": insert new cell above\n",
    "- \"b\": insert new cell below\n",
    "- \"m\": convert cell to Markdown\n",
    "- \"y\": convert cell to code\n",
    "- Up/down: navigate up and down over cells\n",
    "- Shift-Enter, Ctrl-Enter: execute cell (also works in edit mode)\n",
    "\n",
    "Common shortcuts in edit mode:\n",
    "- Ctrl-up/Ctrl-down: move to start/end of cell\n",
    "- Tab: indent selected area (when text is selected) or autocomplete (when editing in the middle of a line)\n",
    "- Shift-Tab: unindent selected area (when text is selected), get function help (when following a function name)\n",
    "- Command-/: toggle comment/uncomment selected region (American keyboard layout)\n",
    "\n",
    "The best way to familiarize yourself with these commands is to try to use the notebook entirely without using the mouse.  In practice, you'll often rely on the mouse for some things (for instance, I prefer to have commands like restarting the kernel require a mouse click), but trying to avoid it for some time will get you familiar enough with the common commands to be fairly productive in the Notebook editing environment."
   ]
  },
  {
   "cell_type": "markdown",
   "metadata": {},
   "source": [
    "### Getting help\n",
    "\n",
    "This was touched upon in the previous list of commands, but is important enough to warrant further discussion.  One of the nicer elements of the notebook editor is it's built-in support for code autocompletion and function lookup.  After writing some portion of code, you can press the \"tab\" key to autocomplete: if there is only one viable completion of the word you are currently typing, it will simply complete the word.  If there are multiple viable predictions, then it will open a popup menu where you can view all possible completions.  The latter is useful for quickly browsing through all functions or variables in a library/object.\n",
    "\n",
    "The second useful command is the inline help popup.  After typing a function name, you can get help for that function by pressing \"Shift-Tab\".  This will bring up a popup with a brief description of the function.  If you want additional help, it may be available for some functions by clicking the <i class=\"fa fa-chevron-up\"></i> button in the top right of the help popup."
   ]
  },
  {
   "cell_type": "markdown",
   "metadata": {},
   "source": [
    "## Python-specific features for AAA course\n",
    "\n",
    "In the remainder of this notebook (which as you go through it, should serve both as an illustration of some concepts in the Notebook, and a brief highlight of some of the relevant Python concepts we'll frequently use throughout this course.  Importantly, these notes are not meant to be a general tutorial on Python, which you are already expected to be familiar with.  If any of the basic Python concepts here seem difficult, we recommend you consult a standard [Python Tutorial](https://docs.python.org/3/tutorial/) or use the following books: [Python Data Science Handbook](https://github.com/jakevdp/PythonDataScienceHandbook), [Data Science from Scratch](http://math.ecnu.edu.cn/~lfzhou/seminar/[Joel_Grus]_Data_Science_from_Scratch_First_Princ.pdf)\n",
    "\n",
    "The most common \"built-in\" data types you will interact with when doing data science work are lists and dictionaries (there are of course additional types like Numpy Arrays, Pandas Dataframes, and others, but these are provided by external libraries).  It's good to have a brief understanding of how to use these data structures effectively."
   ]
  },
  {
   "cell_type": "markdown",
   "metadata": {},
   "source": [
    "### Strings\n",
    "\n",
    "Strings can be delimited by single or double quotation marks (quotes have to match):"
   ]
  },
  {
   "cell_type": "code",
   "execution_count": 5,
   "metadata": {},
   "outputs": [
    {
     "name": "stdout",
     "output_type": "stream",
     "text": [
      "data science and  machine learning\n"
     ]
    }
   ],
   "source": [
    "A = 'data science and'\n",
    "B = \" machine learning\"\n",
    "print(A, B)"
   ]
  },
  {
   "cell_type": "markdown",
   "metadata": {},
   "source": [
    "In the following you will find some methods for strings:\n",
    "- mathematical operations can be applied for strings but they have different function. Only sum `+` and multiply `*` can be used for strings.\n",
    "- note that the \"+\" operator concatenates two strings without a space in between, whereas using the print function and a comma in between several strings does add a space (see above)."
   ]
  },
  {
   "cell_type": "code",
   "execution_count": 6,
   "metadata": {},
   "outputs": [
    {
     "name": "stdout",
     "output_type": "stream",
     "text": [
      "data science and machine learning\n",
      " machine learning machine learning machine learning machine learning machine learning\n"
     ]
    }
   ],
   "source": [
    "print (A + B)\n",
    "print (B*5)\n"
   ]
  },
  {
   "cell_type": "code",
   "execution_count": 8,
   "metadata": {},
   "outputs": [
    {
     "data": {
      "text/plain": [
       "'Data science and'"
      ]
     },
     "execution_count": 8,
     "metadata": {},
     "output_type": "execute_result"
    }
   ],
   "source": [
    "# Capitalizing the first charachter of a string\n",
    "A.capitalize()\n",
    "\n"
   ]
  },
  {
   "cell_type": "code",
   "execution_count": 9,
   "metadata": {},
   "outputs": [
    {
     "name": "stdout",
     "output_type": "stream",
     "text": [
      "data science and\n",
      "DATA SCIENCE AND\n"
     ]
    }
   ],
   "source": [
    "# Lower case und upper case for the entire string\n",
    "print(A.lower())\n",
    "print(A.upper())"
   ]
  },
  {
   "cell_type": "code",
   "execution_count": 10,
   "metadata": {},
   "outputs": [
    {
     "data": {
      "text/plain": [
       "2"
      ]
     },
     "execution_count": 10,
     "metadata": {},
     "output_type": "execute_result"
    }
   ],
   "source": [
    "# Counting the number of substring (which can be one or a number of charachters) within the main string \n",
    "B.count(\"i\")"
   ]
  },
  {
   "cell_type": "code",
   "execution_count": 46,
   "metadata": {},
   "outputs": [
    {
     "data": {
      "text/plain": [
       "['data', 'science', 'and']"
      ]
     },
     "execution_count": 46,
     "metadata": {},
     "output_type": "execute_result"
    }
   ],
   "source": [
    "# Spliting the string. It returns a list of words in the string.\n",
    "A.split(sep = None)"
   ]
  },
  {
   "cell_type": "code",
   "execution_count": 7,
   "metadata": {},
   "outputs": [
    {
     "data": {
      "text/plain": [
       "2"
      ]
     },
     "execution_count": 7,
     "metadata": {},
     "output_type": "execute_result"
    }
   ],
   "source": [
    "# Finding position of a substring within the variable.\n",
    "# Note: \"a\" is the second letter in \"Machine Learning\", so would normally appear at index 1 (as counting starts at 0). \n",
    "# Here, however, an additional space is at the beginning of B (see above). Hence, the index is 2.\n",
    "B.find(\"a\")"
   ]
  },
  {
   "cell_type": "markdown",
   "metadata": {},
   "source": [
    "### Lists\n",
    "\n",
    "Lists are denoted by items within square brackets."
   ]
  },
  {
   "cell_type": "code",
   "execution_count": 11,
   "metadata": {},
   "outputs": [],
   "source": [
    "list1 = [\"a\", \"b\", \"c\", \"d\"]\n",
    "list2 = [1, 2, 3, \"4\", [1,2]]"
   ]
  },
  {
   "cell_type": "markdown",
   "metadata": {},
   "source": [
    "Items within a list can be accessed via several types of indexing: indexing to a given element, negative indexing (backward from the end of a list), and slice-based indexing that returns subsets of the list."
   ]
  },
  {
   "cell_type": "code",
   "execution_count": 12,
   "metadata": {},
   "outputs": [
    {
     "name": "stdout",
     "output_type": "stream",
     "text": [
      "a\n",
      "d\n",
      "['b', 'c']\n",
      "['a', 'c']\n",
      "a\n",
      "b\n",
      "c\n",
      "d\n"
     ]
    }
   ],
   "source": [
    "print(list1[0]) # first element - index 0 - here: a\n",
    "print(list1[-1]) # last element - index -1 - here d\n",
    "print(list1[1:3]) # part of the list from index 1 (second element, inclusive) to index 2 (exclusive). This resulte in just the second element - index 1 - being printed.\n",
    "print(list1[0:4:2]) # part of the list from index 0 (inclusive) to index 4 (exclusive), but only every 2nd element. Here: a (index 0), c (index 2) \n",
    "for i in list1:\n",
    "    print(i)"
   ]
  },
  {
   "cell_type": "markdown",
   "metadata": {},
   "source": [
    "### List comprehensions\n",
    "\n",
    "One slightly less well-known construct that I use extremely frequently (so it may come up in both sample code and homework code), is the list comprehension.  Briefly, this a method for constructing a list by iterating over another list.  Let's suppose we wanted to create a `list3` object that included every element from `list1`, but with an underscore after each string.  We could do it by explicitly constructing the list and adding each element, like so."
   ]
  },
  {
   "cell_type": "code",
   "execution_count": 13,
   "metadata": {},
   "outputs": [
    {
     "data": {
      "text/plain": [
       "['a_', 'b_', 'c_', 'd_']"
      ]
     },
     "execution_count": 13,
     "metadata": {},
     "output_type": "execute_result"
    }
   ],
   "source": [
    "list3 = []\n",
    "for x in list1:\n",
    "    list3.append(x + \"_\")\n",
    "list3"
   ]
  },
  {
   "cell_type": "markdown",
   "metadata": {},
   "source": [
    "However, this quickly gets verbose, if we want to create several new lists this way.  We could get this same result through a list comprehension, which has the syntax `[some_expression(item) for item in list]`, and returns a new list by applying `some_expression` (not necessarily an actual function, just some expression that involves `item`) to each element of the list."
   ]
  },
  {
   "cell_type": "code",
   "execution_count": 14,
   "metadata": {
    "scrolled": true
   },
   "outputs": [
    {
     "data": {
      "text/plain": [
       "['a_', 'b_', 'c_', 'd_']"
      ]
     },
     "execution_count": 14,
     "metadata": {},
     "output_type": "execute_result"
    }
   ],
   "source": [
    "list33 = [x + \"_\" for x in list1]\n",
    "list33"
   ]
  },
  {
   "cell_type": "markdown",
   "metadata": {},
   "source": [
    "#### List methods\n",
    "In the following you can see some example of methods for lists."
   ]
  },
  {
   "cell_type": "code",
   "execution_count": 15,
   "metadata": {},
   "outputs": [
    {
     "data": {
      "text/plain": [
       "['a', 'b', 'c', 'd', 'e']"
      ]
     },
     "execution_count": 15,
     "metadata": {},
     "output_type": "execute_result"
    }
   ],
   "source": [
    "#Adding a new value to the list\n",
    "list1.append(\"e\")\n",
    "list1"
   ]
  },
  {
   "cell_type": "code",
   "execution_count": 16,
   "metadata": {},
   "outputs": [
    {
     "data": {
      "text/plain": [
       "2"
      ]
     },
     "execution_count": 16,
     "metadata": {},
     "output_type": "execute_result"
    }
   ],
   "source": [
    "# returns first index of this value within the list\n",
    "#pay attention that indexes in python starts from 0\n",
    "list1.index(\"c\")"
   ]
  },
  {
   "cell_type": "code",
   "execution_count": 17,
   "metadata": {},
   "outputs": [
    {
     "data": {
      "text/plain": [
       "'e'"
      ]
     },
     "execution_count": 17,
     "metadata": {},
     "output_type": "execute_result"
    }
   ],
   "source": [
    "# removes the item and shows the removed value as the output\n",
    "# the argument refers to the index of the element to be removed\n",
    "# without argument, the last element of the list is removed\n",
    "list1.pop(4)"
   ]
  },
  {
   "cell_type": "code",
   "execution_count": 70,
   "metadata": {},
   "outputs": [
    {
     "data": {
      "text/plain": [
       "['a', 'b', 'c', 'd', 'e']"
      ]
     },
     "execution_count": 70,
     "metadata": {},
     "output_type": "execute_result"
    }
   ],
   "source": [
    "list1"
   ]
  },
  {
   "cell_type": "code",
   "execution_count": 18,
   "metadata": {},
   "outputs": [
    {
     "data": {
      "text/plain": [
       "['a', 'c', 'd']"
      ]
     },
     "execution_count": 18,
     "metadata": {},
     "output_type": "execute_result"
    }
   ],
   "source": [
    "# Removes the first occurence of the item\n",
    "list1.remove('b')\n",
    "list1"
   ]
  },
  {
   "cell_type": "code",
   "execution_count": 75,
   "metadata": {},
   "outputs": [
    {
     "data": {
      "text/plain": [
       "[-1, 6, 15, 20, 36]"
      ]
     },
     "execution_count": 75,
     "metadata": {},
     "output_type": "execute_result"
    }
   ],
   "source": [
    "list4 = [20,15,36,-1,6]\n",
    "# Sorting the values in the list\n",
    "list4.sort(key = None, reverse = False)\n",
    "list4"
   ]
  },
  {
   "cell_type": "markdown",
   "metadata": {},
   "source": [
    "### Tuples\n",
    "\n",
    "Tuples are lists' immutable cousins. Pretty much any thing you can do to a list that doesn't involve modifying it, you can do to a tuple. A tuple can be specified using parentheses (or nothing) instead of square brackets:"
   ]
  },
  {
   "cell_type": "code",
   "execution_count": 19,
   "metadata": {},
   "outputs": [],
   "source": [
    "Tuple_1 = (1,2,6,9,8,7,3)\n",
    "Tuple_2 = 3,4,2,\"a\",6"
   ]
  },
  {
   "cell_type": "code",
   "execution_count": 22,
   "metadata": {},
   "outputs": [
    {
     "name": "stdout",
     "output_type": "stream",
     "text": [
      "Cannot modify a tuple!\n"
     ]
    }
   ],
   "source": [
    "# The try/except construct tries to execute a command (here, change an element of the tuple Tuple_1)\n",
    "# If the execution fails due to a specific error (here TypeErro), the program throws an exception.\n",
    "# The command after the exception is executed to show the programmer that the tried command failed.\n",
    "# This way, the execution of the program can continue, even when an error occured.\n",
    "try:\n",
    "    Tuple_1[1] = 100\n",
    "except TypeError:\n",
    "        print(\"Cannot modify a tuple!\")"
   ]
  },
  {
   "cell_type": "code",
   "execution_count": 20,
   "metadata": {},
   "outputs": [
    {
     "data": {
      "text/plain": [
       "0"
      ]
     },
     "execution_count": 20,
     "metadata": {},
     "output_type": "execute_result"
    }
   ],
   "source": [
    "# Counting the number of a value in the tuple\n",
    "Tuple_1.count(\"a\")"
   ]
  },
  {
   "cell_type": "code",
   "execution_count": 21,
   "metadata": {},
   "outputs": [
    {
     "data": {
      "text/plain": [
       "3"
      ]
     },
     "execution_count": 21,
     "metadata": {},
     "output_type": "execute_result"
    }
   ],
   "source": [
    "#Returns the first index of the value inside the parentheses\n",
    "Tuple_2.index(\"a\")"
   ]
  },
  {
   "cell_type": "markdown",
   "metadata": {},
   "source": [
    "### Dictionaries\n",
    "\n",
    "The next main built-in data type you'll use in data science is the dictionary.  Dictionaries are mappings from keys to values, where keys can be any \"immutable\" Python type (most commonly strings, numbers, booleans, tuples ... but importantly _not_ lists or other dictionaries), and values can be any python type (including lists or dictionaries).\n",
    "\n",
    "Dictionaries can be created with curly brackets, like the following:"
   ]
  },
  {
   "cell_type": "code",
   "execution_count": 23,
   "metadata": {},
   "outputs": [],
   "source": [
    "dict2 = {'1':34, 'v': 'as'}\n",
    "dict1 = {\"a\":1, \"b\":2, \"c\":3}"
   ]
  },
  {
   "cell_type": "markdown",
   "metadata": {},
   "source": [
    "And then elements are accessed by square brackets."
   ]
  },
  {
   "cell_type": "code",
   "execution_count": 24,
   "metadata": {},
   "outputs": [
    {
     "data": {
      "text/plain": [
       "1"
      ]
     },
     "execution_count": 24,
     "metadata": {},
     "output_type": "execute_result"
    }
   ],
   "source": [
    "dict1['a']"
   ]
  },
  {
   "cell_type": "code",
   "execution_count": 25,
   "metadata": {},
   "outputs": [
    {
     "data": {
      "text/plain": [
       "dict_keys(['a', 'b', 'c'])"
      ]
     },
     "execution_count": 25,
     "metadata": {},
     "output_type": "execute_result"
    }
   ],
   "source": [
    "dict1.keys()"
   ]
  },
  {
   "cell_type": "code",
   "execution_count": 25,
   "metadata": {},
   "outputs": [
    {
     "data": {
      "text/plain": [
       "dict_values([34, 'as'])"
      ]
     },
     "execution_count": 25,
     "metadata": {},
     "output_type": "execute_result"
    }
   ],
   "source": [
    "dict2.values()"
   ]
  },
  {
   "cell_type": "markdown",
   "metadata": {},
   "source": [
    "Unlike lists, dictionaries can't be indexed by slices, or negative indexing, or anything like that.  The keys in a dictionary are treated as _unordered_, so there is no notion to sequence in the items of a dictionary.  We can use the same notation to assign new elements to the dictionary."
   ]
  },
  {
   "cell_type": "code",
   "execution_count": 26,
   "metadata": {
    "collapsed": true
   },
   "outputs": [],
   "source": [
    "dict1[\"d\"] = 4"
   ]
  },
  {
   "cell_type": "markdown",
   "metadata": {},
   "source": [
    "Note that we can make this call even though `dict[\"d\"]` previously did not contain anything (and if we try to just execute this statement, it will throw an exception).  You can also check for a key belonging to a dictionary with the command:"
   ]
  },
  {
   "cell_type": "code",
   "execution_count": 27,
   "metadata": {},
   "outputs": [
    {
     "data": {
      "text/plain": [
       "True"
      ]
     },
     "execution_count": 27,
     "metadata": {},
     "output_type": "execute_result"
    }
   ],
   "source": [
    "\"a\" in dict1"
   ]
  },
  {
   "cell_type": "markdown",
   "metadata": {},
   "source": [
    "Finally, there is the analogue to list comprehensions: dictionary comprehensions.  These are specified similar to a list comprehension, but are denoted by the syntax `{key(item) : value(item) for item in list}`."
   ]
  },
  {
   "cell_type": "code",
   "execution_count": 28,
   "metadata": {},
   "outputs": [
    {
     "data": {
      "text/plain": [
       "{0: 0, 1: 1, 2: 4, 3: 9, 4: 16, 5: 25, 6: 36, 7: 49, 8: 64, 9: 81}"
      ]
     },
     "execution_count": 28,
     "metadata": {},
     "output_type": "execute_result"
    }
   ],
   "source": [
    "{i:i**2 for i in range(10)}"
   ]
  },
  {
   "cell_type": "markdown",
   "metadata": {},
   "source": [
    "### Classes\n",
    "\n",
    "Although this section will not describe it in any detail, it will also be necessary to be familiar with classes in Python.  We will just mention a few notes about classes here, using this example:"
   ]
  },
  {
   "cell_type": "code",
   "execution_count": 20,
   "metadata": {},
   "outputs": [
    {
     "data": {
      "text/plain": [
       "1"
      ]
     },
     "execution_count": 20,
     "metadata": {},
     "output_type": "execute_result"
    }
   ],
   "source": [
    "class MyClass:\n",
    "    def __init__(self, n):\n",
    "        self.n = n\n",
    "    \n",
    "    def get_n(self):\n",
    "        return self.n\n",
    "\n",
    "a = MyClass(1)\n",
    "a.get_n()"
   ]
  },
  {
   "cell_type": "markdown",
   "metadata": {},
   "source": [
    "The first note is that all functions within a Python class take an instance of that class as the first argument, usually named `self` in implementations (but it can be named anything).  Class methods and static methods (see the discussion in the list below) behave differently, but we won't be using those features much in this class.  The second thing of some importance is that unlike other object-oriented languages, Python does not actually have a distinction between \"public\" and \"private\" variables.  Although here it seems like the \"n\" variable should be private (inaccessible outside the class), and only accessible via the method `get_n()`, we can just as easily access it directly."
   ]
  },
  {
   "cell_type": "code",
   "execution_count": 21,
   "metadata": {},
   "outputs": [
    {
     "data": {
      "text/plain": [
       "1"
      ]
     },
     "execution_count": 21,
     "metadata": {},
     "output_type": "execute_result"
    }
   ],
   "source": [
    "a.n"
   ]
  },
  {
   "cell_type": "markdown",
   "metadata": {},
   "source": [
    "This means that Python doesn't really respect the traditional object-oriented abstractions (they are more just rules of thumb, that can be overridden by any code that wants to).  Be careful of this fact if you're used to classes in more structured languages like C++ or Java."
   ]
  },
  {
   "cell_type": "markdown",
   "metadata": {},
   "source": [
    "### Control Flow\n",
    "\n",
    "As in most programming languages, you can perform an action conditionally using `if/elif/else`.\n",
    "\n",
    "The general structure of `if` statements is:\n",
    "\n",
    "```\n",
    "if conditional 1:\n",
    "    statement 1\n",
    "    \n",
    "elif conditional 2:\n",
    "    statement 2 \n",
    "    \n",
    "else : \n",
    "    statement 3```"
   ]
  },
  {
   "cell_type": "code",
   "execution_count": 87,
   "metadata": {},
   "outputs": [
    {
     "name": "stdout",
     "output_type": "stream",
     "text": [
      "when all else fails use else (if you want to)\n"
     ]
    }
   ],
   "source": [
    "if 1>2:\n",
    "    message = \"if only 1 were greater than two... \"\n",
    "elif 1>3:\n",
    "    message = \"elif stands for else if\"\n",
    "else:\n",
    "    message = \"when all else fails use else (if you want to)\"\n",
    "print(message)"
   ]
  },
  {
   "cell_type": "markdown",
   "metadata": {},
   "source": [
    "Python also has while loop:"
   ]
  },
  {
   "cell_type": "code",
   "execution_count": 88,
   "metadata": {},
   "outputs": [
    {
     "name": "stdout",
     "output_type": "stream",
     "text": [
      "0  is less than 10\n",
      "1  is less than 10\n",
      "2  is less than 10\n",
      "3  is less than 10\n",
      "4  is less than 10\n",
      "5  is less than 10\n",
      "6  is less than 10\n",
      "7  is less than 10\n",
      "8  is less than 10\n",
      "9  is less than 10\n"
     ]
    }
   ],
   "source": [
    "x = 0\n",
    "while x<10:\n",
    "    print (x, \" is less than 10\")\n",
    "    x+=1"
   ]
  },
  {
   "cell_type": "markdown",
   "metadata": {},
   "source": [
    "Also we can use `for` and `in` for the above example. Note that range(10) does include 10 values from 0 to 9, but not the digit 10 itself. The range() function is useful when you want a for loop to run for a fixed number of iterations: "
   ]
  },
  {
   "cell_type": "code",
   "execution_count": 29,
   "metadata": {},
   "outputs": [
    {
     "name": "stdout",
     "output_type": "stream",
     "text": [
      "0  is less than 10\n",
      "1  is less than 10\n",
      "2  is less than 10\n",
      "3  is less than 10\n",
      "4  is less than 10\n",
      "5  is less than 10\n",
      "6  is less than 10\n",
      "7  is less than 10\n",
      "8  is less than 10\n",
      "9  is less than 10\n"
     ]
    }
   ],
   "source": [
    "for i in range(10):\n",
    "    print(i, \" is less than 10\")"
   ]
  },
  {
   "cell_type": "code",
   "execution_count": null,
   "metadata": {
    "collapsed": true
   },
   "outputs": [],
   "source": []
  }
 ],
 "metadata": {
  "kernelspec": {
   "display_name": "Python 3",
   "language": "python",
   "name": "python3"
  },
  "language_info": {
   "codemirror_mode": {
    "name": "ipython",
    "version": 3
   },
   "file_extension": ".py",
   "mimetype": "text/x-python",
   "name": "python",
   "nbconvert_exporter": "python",
   "pygments_lexer": "ipython3",
   "version": "3.6.4"
  }
 },
 "nbformat": 4,
 "nbformat_minor": 2
}
